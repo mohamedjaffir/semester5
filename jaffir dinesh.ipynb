{
 "cells": [
  {
   "cell_type": "code",
   "execution_count": 6,
   "id": "8e8f2f9c-c124-4a13-b8e9-2b249f1a1c3c",
   "metadata": {},
   "outputs": [
    {
     "name": "stdout",
     "output_type": "stream",
     "text": [
      "original list: [1, 3, 4, 1, 8, 67, 55, 7, 8]\n",
      "removed list: [1, 3, 4, 8, 67, 55, 7]\n"
     ]
    }
   ],
   "source": [
    "def delete(list):\n",
    "    empty_list=[]\n",
    "    for i in list:\n",
    "        if i not in empty_list:\n",
    "            empty_list.append(i)\n",
    "    return empty_list\n",
    "list=[1,3,4,1,8,67,55,7,8]\n",
    "empty_list=delete(list)\n",
    "print(\"original list:\", list)\n",
    "print(\"removed list:\", empty_list)"
   ]
  },
  {
   "cell_type": "code",
   "execution_count": null,
   "id": "6ac4ae51-3cba-4f0f-bf35-73aa2038ad0f",
   "metadata": {},
   "outputs": [],
   "source": []
  }
 ],
 "metadata": {
  "kernelspec": {
   "display_name": "Python 3 (ipykernel)",
   "language": "python",
   "name": "python3"
  },
  "language_info": {
   "codemirror_mode": {
    "name": "ipython",
    "version": 3
   },
   "file_extension": ".py",
   "mimetype": "text/x-python",
   "name": "python",
   "nbconvert_exporter": "python",
   "pygments_lexer": "ipython3",
   "version": "3.9.19"
  }
 },
 "nbformat": 4,
 "nbformat_minor": 5
}
